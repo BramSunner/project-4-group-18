{
 "cells": [
  {
   "cell_type": "code",
   "execution_count": 1,
   "id": "151ddf17-bd6d-4b64-b867-e3a1c855ed12",
   "metadata": {},
   "outputs": [],
   "source": [
    "# Dependencies.\n",
    "# Data.\n",
    "import pandas as pd\n",
    "import numpy as np\n",
    "\n",
    "# Model.\n",
    "from sklearn.neighbors import NearestNeighbors\n",
    "from sklearn.feature_extraction.text import TfidfVectorizer\n",
    "from sklearn.feature_extraction.text import CountVectorizer\n",
    "from sklearn.metrics.pairwise import cosine_similarity\n",
    "\n",
    "# Misc.\n",
    "from difflib import *\n",
    "from api_keys import ACCESS_TOKEN\n",
    "from time import sleep, time\n",
    "\n",
    "# Get rid of warnings.\n",
    "import warnings\n",
    "warnings.filterwarnings('ignore')"
   ]
  },
  {
   "cell_type": "code",
   "execution_count": 2,
   "id": "d3dfe4b5-6adf-4fbf-a984-60edb204e596",
   "metadata": {},
   "outputs": [
    {
     "name": "stdout",
     "output_type": "stream",
     "text": [
      "<class 'pandas.core.frame.DataFrame'>\n",
      "RangeIndex: 3067 entries, 0 to 3066\n",
      "Data columns (total 3 columns):\n",
      " #   Column   Non-Null Count  Dtype  \n",
      "---  ------   --------------  -----  \n",
      " 0   title    3067 non-null   object \n",
      " 1   rating   3067 non-null   float64\n",
      " 2   feature  3067 non-null   object \n",
      "dtypes: float64(1), object(2)\n",
      "memory usage: 72.0+ KB\n"
     ]
    },
    {
     "data": {
      "text/plain": [
       "None"
      ]
     },
     "metadata": {},
     "output_type": "display_data"
    },
    {
     "data": {
      "text/html": [
       "<div>\n",
       "<style scoped>\n",
       "    .dataframe tbody tr th:only-of-type {\n",
       "        vertical-align: middle;\n",
       "    }\n",
       "\n",
       "    .dataframe tbody tr th {\n",
       "        vertical-align: top;\n",
       "    }\n",
       "\n",
       "    .dataframe thead th {\n",
       "        text-align: right;\n",
       "    }\n",
       "</style>\n",
       "<table border=\"1\" class=\"dataframe\">\n",
       "  <thead>\n",
       "    <tr style=\"text-align: right;\">\n",
       "      <th></th>\n",
       "      <th>title</th>\n",
       "      <th>rating</th>\n",
       "      <th>feature</th>\n",
       "    </tr>\n",
       "  </thead>\n",
       "  <tbody>\n",
       "    <tr>\n",
       "      <th>0</th>\n",
       "      <td>The Shawshank Redemption</td>\n",
       "      <td>9.3</td>\n",
       "      <td>two imprisoned men bond number year find solac...</td>\n",
       "    </tr>\n",
       "    <tr>\n",
       "      <th>1</th>\n",
       "      <td>The Godfather</td>\n",
       "      <td>9.2</td>\n",
       "      <td>organize crime dynasty age patriarch transfer ...</td>\n",
       "    </tr>\n",
       "    <tr>\n",
       "      <th>2</th>\n",
       "      <td>The Dark Knight</td>\n",
       "      <td>9.0</td>\n",
       "      <td>menace know joker wreak havoc chaos people got...</td>\n",
       "    </tr>\n",
       "    <tr>\n",
       "      <th>3</th>\n",
       "      <td>The Godfather: Part II</td>\n",
       "      <td>9.0</td>\n",
       "      <td>early life career vito corleone 1920s new york...</td>\n",
       "    </tr>\n",
       "    <tr>\n",
       "      <th>4</th>\n",
       "      <td>12 Angry Men</td>\n",
       "      <td>9.0</td>\n",
       "      <td>jury holdout attempt prevent miscarriage justi...</td>\n",
       "    </tr>\n",
       "  </tbody>\n",
       "</table>\n",
       "</div>"
      ],
      "text/plain": [
       "                      title  rating  \\\n",
       "0  The Shawshank Redemption     9.3   \n",
       "1             The Godfather     9.2   \n",
       "2           The Dark Knight     9.0   \n",
       "3    The Godfather: Part II     9.0   \n",
       "4              12 Angry Men     9.0   \n",
       "\n",
       "                                             feature  \n",
       "0  two imprisoned men bond number year find solac...  \n",
       "1  organize crime dynasty age patriarch transfer ...  \n",
       "2  menace know joker wreak havoc chaos people got...  \n",
       "3  early life career vito corleone 1920s new york...  \n",
       "4  jury holdout attempt prevent miscarriage justi...  "
      ]
     },
     "metadata": {},
     "output_type": "display_data"
    }
   ],
   "source": [
    "df = pd.read_csv(\"resources/ml_movie.csv\", index_col = False)\n",
    "\n",
    "display(df.info())\n",
    "display(df.head())"
   ]
  },
  {
   "cell_type": "code",
   "execution_count": 3,
   "id": "53c9ba25-9700-42ac-ae69-322064fd5de6",
   "metadata": {},
   "outputs": [],
   "source": [
    "v = TfidfVectorizer()\n",
    "cv = CountVectorizer()"
   ]
  },
  {
   "cell_type": "code",
   "execution_count": 23,
   "id": "12afd36b-6010-455b-98b7-8355c91c6543",
   "metadata": {},
   "outputs": [
    {
     "name": "stdout",
     "output_type": "stream",
     "text": [
      "TFIDF\n",
      "1 The Avengers\n",
      "2 Avengers: Age of Ultron\n",
      "3 Captain America: Civil War\n",
      "4 Captain America: The Winter Soldier\n",
      "5 Serenity\n",
      "6 Avengers: Infinity War\n",
      "7 Man of Steel\n",
      "8 Arrival\n",
      "9 The Nanny Diaries\n",
      "10 Avengers: Endgame\n",
      "11 Iron Man\n"
     ]
    }
   ],
   "source": [
    "tfidf_matrix = v.fit_transform(df.feature)\n",
    "cos_sim = cosine_similarity(tfidf_matrix)\n",
    "title = \"The Avengers\"\n",
    "\n",
    "movie_id = df.loc[df['title'] == title, :].index[0]\n",
    "score = list(enumerate(cos_sim[movie_id]))\n",
    "sorted_score = sorted(score, key = lambda x: x[1], reverse = True)\n",
    "\n",
    "print(\"TFIDF\")\n",
    "\n",
    "i = 0\n",
    "for item in sorted_score:\n",
    "    movie_title = df.loc[item[0], 'title']\n",
    "    print(i+1,movie_title)\n",
    "    i = i+1\n",
    "    if i > 10:\n",
    "        break"
   ]
  },
  {
   "cell_type": "code",
   "execution_count": 5,
   "id": "fde63609-9c84-4e95-b212-fef34676fe04",
   "metadata": {},
   "outputs": [
    {
     "name": "stdout",
     "output_type": "stream",
     "text": [
      "COUNT VECTOR\n",
      "1 Jaws\n",
      "2 Close Encounters of the Third Kind\n",
      "3 Jaws: The Revenge\n",
      "4 The Sting\n",
      "5 Dead Shot\n",
      "6 Rambo: First Blood Part II\n",
      "7 Jurassic Park\n",
      "8 The Beach\n",
      "9 Out of Darkness\n",
      "10 War of the Worlds\n",
      "11 Cast Away\n"
     ]
    }
   ],
   "source": [
    "cv_matrix = cv.fit_transform(df.feature)\n",
    "cos_sim = cosine_similarity(cv_matrix)\n",
    "title = \"Jaws\"\n",
    "\n",
    "movie_id = df.loc[df['title'] == title, :].index[0]\n",
    "score = list(enumerate(cos_sim[movie_id]))\n",
    "sorted_score = sorted(score, key = lambda x: x[1], reverse = True)\n",
    "\n",
    "print(\"COUNT VECTOR\")\n",
    "\n",
    "i = 0\n",
    "for item in sorted_score[1:11]:\n",
    "    movie_title = df.loc[item[0], 'title']\n",
    "    print(i+1,movie_title)\n",
    "    i += 1\n",
    "    if i > 10:\n",
    "        break"
   ]
  },
  {
   "cell_type": "code",
   "execution_count": null,
   "id": "1de407a6-6af1-422e-9314-8cf76fed90a7",
   "metadata": {},
   "outputs": [],
   "source": []
  },
  {
   "cell_type": "code",
   "execution_count": 12,
   "id": "06114cc3-8ec3-4a47-bb91-a290c0e579ab",
   "metadata": {},
   "outputs": [
    {
     "data": {
      "text/plain": [
       "'presidency kennedy johnson event vietnam watergate historical event unfold perspective alabama man iq 75 whose desire reunite childhood sweetheart drama romance robert zemeckis tom hanks robin wright gary sinise sally field'"
      ]
     },
     "execution_count": 12,
     "metadata": {},
     "output_type": "execute_result"
    }
   ],
   "source": [
    "df.loc[11, 'feature']"
   ]
  },
  {
   "cell_type": "code",
   "execution_count": null,
   "id": "b1581183-2119-4dae-8848-de044c7f1109",
   "metadata": {},
   "outputs": [],
   "source": []
  },
  {
   "cell_type": "code",
   "execution_count": null,
   "id": "aa947927-de4e-4981-93db-3cf8cdf7a8e2",
   "metadata": {},
   "outputs": [],
   "source": []
  },
  {
   "cell_type": "code",
   "execution_count": 6,
   "id": "038ea2c0-2dc7-49ab-8b6b-32a28bd5a5cd",
   "metadata": {},
   "outputs": [],
   "source": [
    "# Can use USER INPUT to find an 'undefined movie'?\n",
    "df2 = df.copy()"
   ]
  },
  {
   "cell_type": "code",
   "execution_count": 13,
   "id": "c2f69a2c-9ba7-40b4-bda1-fca4671dc5cb",
   "metadata": {},
   "outputs": [
    {
     "name": "stdout",
     "output_type": "stream",
     "text": [
      "<class 'pandas.core.frame.DataFrame'>\n",
      "Index: 1 entries, 0 to 0\n",
      "Data columns (total 2 columns):\n",
      " #   Column   Non-Null Count  Dtype \n",
      "---  ------   --------------  ----- \n",
      " 0   title    1 non-null      object\n",
      " 1   feature  1 non-null      object\n",
      "dtypes: object(2)\n",
      "memory usage: 24.0+ bytes\n"
     ]
    },
    {
     "data": {
      "text/plain": [
       "None"
      ]
     },
     "metadata": {},
     "output_type": "display_data"
    },
    {
     "data": {
      "text/html": [
       "<div>\n",
       "<style scoped>\n",
       "    .dataframe tbody tr th:only-of-type {\n",
       "        vertical-align: middle;\n",
       "    }\n",
       "\n",
       "    .dataframe tbody tr th {\n",
       "        vertical-align: top;\n",
       "    }\n",
       "\n",
       "    .dataframe thead th {\n",
       "        text-align: right;\n",
       "    }\n",
       "</style>\n",
       "<table border=\"1\" class=\"dataframe\">\n",
       "  <thead>\n",
       "    <tr style=\"text-align: right;\">\n",
       "      <th></th>\n",
       "      <th>title</th>\n",
       "      <th>feature</th>\n",
       "    </tr>\n",
       "  </thead>\n",
       "  <tbody>\n",
       "    <tr>\n",
       "      <th>0</th>\n",
       "      <td>USER INPUT</td>\n",
       "      <td>man fight war get medal find love have child</td>\n",
       "    </tr>\n",
       "  </tbody>\n",
       "</table>\n",
       "</div>"
      ],
      "text/plain": [
       "        title                                       feature\n",
       "0  USER INPUT  man fight war get medal find love have child"
      ]
     },
     "metadata": {},
     "output_type": "display_data"
    }
   ],
   "source": [
    "user_title = \"USER INPUT\"\n",
    "user_desc = \"man fight war get medal find love have child\"\n",
    "\n",
    "user_input = {\n",
    "    \"title\": user_title,\n",
    "    \"feature\": user_desc\n",
    "}\n",
    "\n",
    "df_add = pd.DataFrame(user_input, columns = ['title', 'feature'], index = [0])\n",
    "\n",
    "display(df_add.info())\n",
    "display(df_add.head())"
   ]
  },
  {
   "cell_type": "code",
   "execution_count": 14,
   "id": "3dcd2399-7ee1-451a-af07-499f92e167fb",
   "metadata": {},
   "outputs": [
    {
     "name": "stdout",
     "output_type": "stream",
     "text": [
      "<class 'pandas.core.frame.DataFrame'>\n",
      "RangeIndex: 3068 entries, 0 to 3067\n",
      "Data columns (total 3 columns):\n",
      " #   Column   Non-Null Count  Dtype  \n",
      "---  ------   --------------  -----  \n",
      " 0   title    3068 non-null   object \n",
      " 1   rating   3067 non-null   float64\n",
      " 2   feature  3068 non-null   object \n",
      "dtypes: float64(1), object(2)\n",
      "memory usage: 72.0+ KB\n"
     ]
    },
    {
     "data": {
      "text/plain": [
       "None"
      ]
     },
     "metadata": {},
     "output_type": "display_data"
    },
    {
     "data": {
      "text/html": [
       "<div>\n",
       "<style scoped>\n",
       "    .dataframe tbody tr th:only-of-type {\n",
       "        vertical-align: middle;\n",
       "    }\n",
       "\n",
       "    .dataframe tbody tr th {\n",
       "        vertical-align: top;\n",
       "    }\n",
       "\n",
       "    .dataframe thead th {\n",
       "        text-align: right;\n",
       "    }\n",
       "</style>\n",
       "<table border=\"1\" class=\"dataframe\">\n",
       "  <thead>\n",
       "    <tr style=\"text-align: right;\">\n",
       "      <th></th>\n",
       "      <th>title</th>\n",
       "      <th>rating</th>\n",
       "      <th>feature</th>\n",
       "    </tr>\n",
       "  </thead>\n",
       "  <tbody>\n",
       "    <tr>\n",
       "      <th>0</th>\n",
       "      <td>The Shawshank Redemption</td>\n",
       "      <td>9.3</td>\n",
       "      <td>two imprisoned men bond number year find solac...</td>\n",
       "    </tr>\n",
       "    <tr>\n",
       "      <th>1</th>\n",
       "      <td>The Godfather</td>\n",
       "      <td>9.2</td>\n",
       "      <td>organize crime dynasty age patriarch transfer ...</td>\n",
       "    </tr>\n",
       "    <tr>\n",
       "      <th>2</th>\n",
       "      <td>The Dark Knight</td>\n",
       "      <td>9.0</td>\n",
       "      <td>menace know joker wreak havoc chaos people got...</td>\n",
       "    </tr>\n",
       "    <tr>\n",
       "      <th>3</th>\n",
       "      <td>The Godfather: Part II</td>\n",
       "      <td>9.0</td>\n",
       "      <td>early life career vito corleone 1920s new york...</td>\n",
       "    </tr>\n",
       "    <tr>\n",
       "      <th>4</th>\n",
       "      <td>12 Angry Men</td>\n",
       "      <td>9.0</td>\n",
       "      <td>jury holdout attempt prevent miscarriage justi...</td>\n",
       "    </tr>\n",
       "  </tbody>\n",
       "</table>\n",
       "</div>"
      ],
      "text/plain": [
       "                      title  rating  \\\n",
       "0  The Shawshank Redemption     9.3   \n",
       "1             The Godfather     9.2   \n",
       "2           The Dark Knight     9.0   \n",
       "3    The Godfather: Part II     9.0   \n",
       "4              12 Angry Men     9.0   \n",
       "\n",
       "                                             feature  \n",
       "0  two imprisoned men bond number year find solac...  \n",
       "1  organize crime dynasty age patriarch transfer ...  \n",
       "2  menace know joker wreak havoc chaos people got...  \n",
       "3  early life career vito corleone 1920s new york...  \n",
       "4  jury holdout attempt prevent miscarriage justi...  "
      ]
     },
     "metadata": {},
     "output_type": "display_data"
    }
   ],
   "source": [
    "df_con = pd.concat([df2, df_add]).reset_index(drop = True)\n",
    "\n",
    "display(df_con.info())\n",
    "display(df_con.head())"
   ]
  },
  {
   "cell_type": "code",
   "execution_count": 27,
   "id": "c76f8608-11f2-47e4-a98e-7ec39c378775",
   "metadata": {},
   "outputs": [
    {
     "name": "stdout",
     "output_type": "stream",
     "text": [
      "TFIDF\n",
      "1 USER INPUT\n",
      "2 Hacksaw Ridge\n",
      "3 Monsters, Inc.\n",
      "4 Beasts of No Nation\n",
      "5 Bedknobs and Broomsticks\n",
      "6 If Only\n",
      "7 Undisputed II: Last Man Standing\n",
      "8 Jack the Giant Slayer\n",
      "9 The Deliverance\n",
      "10 Bad Lieutenant: Port of Call - New Orleans\n",
      "11 Platoon\n"
     ]
    }
   ],
   "source": [
    "tfidf_matrix = v.fit_transform(df_con.feature)\n",
    "cos_sim = cosine_similarity(tfidf_matrix)\n",
    "title = \"USER INPUT\"\n",
    "\n",
    "movie_id = df_con.loc[df_con['title'] == title, :].index[0]\n",
    "score = list(enumerate(cos_sim[movie_id]))\n",
    "sorted_score = sorted(score, key = lambda x: x[1], reverse = True)\n",
    "\n",
    "print(\"TFIDF\")\n",
    "\n",
    "i = 0\n",
    "for item in sorted_score[0:12]:\n",
    "    movie_title = df_con.loc[item[0], 'title']\n",
    "    print(i+1,movie_title)\n",
    "    i = i+1\n",
    "    if i > 10:\n",
    "        break"
   ]
  },
  {
   "cell_type": "code",
   "execution_count": null,
   "id": "80208564-052c-45c3-9689-1fcad70be6b5",
   "metadata": {},
   "outputs": [],
   "source": []
  }
 ],
 "metadata": {
  "kernelspec": {
   "display_name": "Python 3 (ipykernel)",
   "language": "python",
   "name": "python3"
  },
  "language_info": {
   "codemirror_mode": {
    "name": "ipython",
    "version": 3
   },
   "file_extension": ".py",
   "mimetype": "text/x-python",
   "name": "python",
   "nbconvert_exporter": "python",
   "pygments_lexer": "ipython3",
   "version": "3.10.14"
  }
 },
 "nbformat": 4,
 "nbformat_minor": 5
}
