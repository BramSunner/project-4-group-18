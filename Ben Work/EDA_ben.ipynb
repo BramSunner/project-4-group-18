{
 "cells": [
  {
   "cell_type": "code",
   "execution_count": 18,
   "metadata": {},
   "outputs": [],
   "source": [
    "import pandas as pd\n",
    "import numpy as np\n",
    "import matplotlib.pyplot as plt\n",
    "import seaborn as sns\n",
    "%matplotlib inline"
   ]
  },
  {
   "cell_type": "code",
   "execution_count": 19,
   "metadata": {},
   "outputs": [],
   "source": [
    "df = pd.read_csv('movie_dataset.csv')"
   ]
  },
  {
   "cell_type": "code",
   "execution_count": 20,
   "metadata": {},
   "outputs": [
    {
     "name": "stdout",
     "output_type": "stream",
     "text": [
      "<class 'pandas.core.frame.DataFrame'>\n",
      "RangeIndex: 3385 entries, 0 to 3384\n",
      "Data columns (total 39 columns):\n",
      " #   Column           Non-Null Count  Dtype  \n",
      "---  ------           --------------  -----  \n",
      " 0   title            3385 non-null   object \n",
      " 1   genre            3385 non-null   object \n",
      " 2   release_year     3385 non-null   int64  \n",
      " 3   runtime          3385 non-null   float64\n",
      " 4   rating           3385 non-null   float64\n",
      " 5   vote_count       3385 non-null   int64  \n",
      " 6   director         3385 non-null   object \n",
      " 7   cast1            3385 non-null   object \n",
      " 8   cast2            3381 non-null   object \n",
      " 9   cast3            3375 non-null   object \n",
      " 10  cast4            3374 non-null   object \n",
      " 11  overview         3385 non-null   object \n",
      " 12  gross            3385 non-null   float64\n",
      " 13  poster_link      3385 non-null   object \n",
      " 14  source           3385 non-null   object \n",
      " 15  Action           3385 non-null   int64  \n",
      " 16  Adventure        3385 non-null   int64  \n",
      " 17  Animation        3385 non-null   int64  \n",
      " 18  Biography        3385 non-null   int64  \n",
      " 19  Comedy           3385 non-null   int64  \n",
      " 20  Crime            3385 non-null   int64  \n",
      " 21  Documentary      3385 non-null   int64  \n",
      " 22  Drama            3385 non-null   int64  \n",
      " 23  Family           3385 non-null   int64  \n",
      " 24  Fantasy          3385 non-null   int64  \n",
      " 25  Film-Noir        3385 non-null   int64  \n",
      " 26  History          3385 non-null   int64  \n",
      " 27  Horror           3385 non-null   int64  \n",
      " 28  Music            3385 non-null   int64  \n",
      " 29  Musical          3385 non-null   int64  \n",
      " 30  Mystery          3385 non-null   int64  \n",
      " 31  Romance          3385 non-null   int64  \n",
      " 32  Sci-Fi           3385 non-null   int64  \n",
      " 33  Science Fiction  3385 non-null   int64  \n",
      " 34  Sport            3385 non-null   int64  \n",
      " 35  Thriller         3385 non-null   int64  \n",
      " 36  TV Movie         3385 non-null   int64  \n",
      " 37  War              3385 non-null   int64  \n",
      " 38  Western          3385 non-null   int64  \n",
      "dtypes: float64(3), int64(26), object(10)\n",
      "memory usage: 1.0+ MB\n"
     ]
    }
   ],
   "source": [
    "df.info()"
   ]
  },
  {
   "cell_type": "code",
   "execution_count": 21,
   "metadata": {},
   "outputs": [],
   "source": [
    "df['main_genre'] = df['genre'].str.split(',').str[0]"
   ]
  },
  {
   "cell_type": "code",
   "execution_count": 22,
   "metadata": {},
   "outputs": [
    {
     "data": {
      "text/plain": [
       "main_genre\n",
       "Drama              622\n",
       "Action             577\n",
       "Comedy             462\n",
       "Horror             299\n",
       "Animation          278\n",
       "Adventure          269\n",
       "Crime              182\n",
       "Thriller           115\n",
       "Family              99\n",
       "Science Fiction     90\n",
       "Biography           88\n",
       "Fantasy             75\n",
       "Romance             67\n",
       "Mystery             42\n",
       "Documentary         35\n",
       "Western             27\n",
       "War                 20\n",
       "Music               15\n",
       "TV Movie            10\n",
       "History             10\n",
       "Film-Noir            3\n",
       "Name: count, dtype: int64"
      ]
     },
     "execution_count": 22,
     "metadata": {},
     "output_type": "execute_result"
    }
   ],
   "source": [
    "df.main_genre.value_counts()"
   ]
  },
  {
   "cell_type": "code",
   "execution_count": 23,
   "metadata": {},
   "outputs": [],
   "source": [
    "df.to_csv('movie_dataset_main_genre.csv')"
   ]
  },
  {
   "cell_type": "code",
   "execution_count": 24,
   "metadata": {},
   "outputs": [
    {
     "data": {
      "text/plain": [
       "release_year\n",
       "1920      1\n",
       "1921      1\n",
       "1922      1\n",
       "1924      1\n",
       "1925      2\n",
       "       ... \n",
       "2020     58\n",
       "2021     89\n",
       "2022    150\n",
       "2023    234\n",
       "2024    185\n",
       "Name: count, Length: 103, dtype: int64"
      ]
     },
     "execution_count": 24,
     "metadata": {},
     "output_type": "execute_result"
    }
   ],
   "source": [
    "df['release_year'].value_counts().sort_index(ascending=True)"
   ]
  },
  {
   "cell_type": "code",
   "execution_count": 25,
   "metadata": {},
   "outputs": [
    {
     "data": {
      "text/plain": [
       "gross\n",
       " 0.0            547\n",
       " 20115887.0     169\n",
       "-3000000.0        8\n",
       "-7000000.0        7\n",
       "-5000000.0        5\n",
       "               ... \n",
       " 45900000.0       1\n",
       " 56500000.0       1\n",
       " 94346243.0       1\n",
       " 115723856.0      1\n",
       " 294638258.0      1\n",
       "Name: count, Length: 2543, dtype: int64"
      ]
     },
     "execution_count": 25,
     "metadata": {},
     "output_type": "execute_result"
    }
   ],
   "source": [
    "df.gross.value_counts()"
   ]
  },
  {
   "cell_type": "code",
   "execution_count": 27,
   "metadata": {},
   "outputs": [],
   "source": [
    "df = df[df['gross'] > 0]"
   ]
  },
  {
   "cell_type": "code",
   "execution_count": 35,
   "metadata": {},
   "outputs": [],
   "source": [
    "df = df.sort_values(by='release_year', ascending=True)"
   ]
  },
  {
   "cell_type": "code",
   "execution_count": 36,
   "metadata": {},
   "outputs": [
    {
     "data": {
      "text/html": [
       "<div>\n",
       "<style scoped>\n",
       "    .dataframe tbody tr th:only-of-type {\n",
       "        vertical-align: middle;\n",
       "    }\n",
       "\n",
       "    .dataframe tbody tr th {\n",
       "        vertical-align: top;\n",
       "    }\n",
       "\n",
       "    .dataframe thead th {\n",
       "        text-align: right;\n",
       "    }\n",
       "</style>\n",
       "<table border=\"1\" class=\"dataframe\">\n",
       "  <thead>\n",
       "    <tr style=\"text-align: right;\">\n",
       "      <th></th>\n",
       "      <th>title</th>\n",
       "      <th>genre</th>\n",
       "      <th>release_year</th>\n",
       "      <th>runtime</th>\n",
       "      <th>rating</th>\n",
       "      <th>vote_count</th>\n",
       "      <th>director</th>\n",
       "      <th>cast1</th>\n",
       "      <th>cast2</th>\n",
       "      <th>cast3</th>\n",
       "      <th>...</th>\n",
       "      <th>Mystery</th>\n",
       "      <th>Romance</th>\n",
       "      <th>Sci-Fi</th>\n",
       "      <th>Science Fiction</th>\n",
       "      <th>Sport</th>\n",
       "      <th>Thriller</th>\n",
       "      <th>TV Movie</th>\n",
       "      <th>War</th>\n",
       "      <th>Western</th>\n",
       "      <th>main_genre</th>\n",
       "    </tr>\n",
       "  </thead>\n",
       "  <tbody>\n",
       "    <tr>\n",
       "      <th>321</th>\n",
       "      <td>Das Cabinet des Dr. Caligari</td>\n",
       "      <td>Fantasy, Horror, Mystery</td>\n",
       "      <td>1920</td>\n",
       "      <td>76.0</td>\n",
       "      <td>8.1</td>\n",
       "      <td>57428</td>\n",
       "      <td>Robert Wiene</td>\n",
       "      <td>Werner Krauss</td>\n",
       "      <td>Conrad Veidt</td>\n",
       "      <td>Friedrich Feher</td>\n",
       "      <td>...</td>\n",
       "      <td>1</td>\n",
       "      <td>0</td>\n",
       "      <td>0</td>\n",
       "      <td>0</td>\n",
       "      <td>0</td>\n",
       "      <td>0</td>\n",
       "      <td>0</td>\n",
       "      <td>0</td>\n",
       "      <td>0</td>\n",
       "      <td>Fantasy</td>\n",
       "    </tr>\n",
       "    <tr>\n",
       "      <th>127</th>\n",
       "      <td>The Kid</td>\n",
       "      <td>Comedy, Drama, Family</td>\n",
       "      <td>1921</td>\n",
       "      <td>68.0</td>\n",
       "      <td>8.3</td>\n",
       "      <td>113314</td>\n",
       "      <td>Charles Chaplin</td>\n",
       "      <td>Charles Chaplin</td>\n",
       "      <td>Edna Purviance</td>\n",
       "      <td>Jackie Coogan</td>\n",
       "      <td>...</td>\n",
       "      <td>0</td>\n",
       "      <td>0</td>\n",
       "      <td>0</td>\n",
       "      <td>0</td>\n",
       "      <td>0</td>\n",
       "      <td>0</td>\n",
       "      <td>0</td>\n",
       "      <td>0</td>\n",
       "      <td>0</td>\n",
       "      <td>Comedy</td>\n",
       "    </tr>\n",
       "    <tr>\n",
       "      <th>568</th>\n",
       "      <td>Nosferatu</td>\n",
       "      <td>Fantasy, Horror</td>\n",
       "      <td>1922</td>\n",
       "      <td>94.0</td>\n",
       "      <td>7.9</td>\n",
       "      <td>88794</td>\n",
       "      <td>F.W. Murnau</td>\n",
       "      <td>Max Schreck</td>\n",
       "      <td>Alexander Granach</td>\n",
       "      <td>Gustav von Wangenheim</td>\n",
       "      <td>...</td>\n",
       "      <td>0</td>\n",
       "      <td>0</td>\n",
       "      <td>0</td>\n",
       "      <td>0</td>\n",
       "      <td>0</td>\n",
       "      <td>0</td>\n",
       "      <td>0</td>\n",
       "      <td>0</td>\n",
       "      <td>0</td>\n",
       "      <td>Fantasy</td>\n",
       "    </tr>\n",
       "    <tr>\n",
       "      <th>194</th>\n",
       "      <td>Sherlock Jr.</td>\n",
       "      <td>Action, Comedy, Romance</td>\n",
       "      <td>1924</td>\n",
       "      <td>45.0</td>\n",
       "      <td>8.2</td>\n",
       "      <td>41985</td>\n",
       "      <td>Buster Keaton</td>\n",
       "      <td>Buster Keaton</td>\n",
       "      <td>Kathryn McGuire</td>\n",
       "      <td>Joe Keaton</td>\n",
       "      <td>...</td>\n",
       "      <td>0</td>\n",
       "      <td>1</td>\n",
       "      <td>0</td>\n",
       "      <td>0</td>\n",
       "      <td>0</td>\n",
       "      <td>0</td>\n",
       "      <td>0</td>\n",
       "      <td>0</td>\n",
       "      <td>0</td>\n",
       "      <td>Action</td>\n",
       "    </tr>\n",
       "    <tr>\n",
       "      <th>193</th>\n",
       "      <td>The Gold Rush</td>\n",
       "      <td>Adventure, Comedy, Drama</td>\n",
       "      <td>1925</td>\n",
       "      <td>95.0</td>\n",
       "      <td>8.2</td>\n",
       "      <td>101053</td>\n",
       "      <td>Charles Chaplin</td>\n",
       "      <td>Charles Chaplin</td>\n",
       "      <td>Mack Swain</td>\n",
       "      <td>Tom Murray</td>\n",
       "      <td>...</td>\n",
       "      <td>0</td>\n",
       "      <td>0</td>\n",
       "      <td>0</td>\n",
       "      <td>0</td>\n",
       "      <td>0</td>\n",
       "      <td>0</td>\n",
       "      <td>0</td>\n",
       "      <td>0</td>\n",
       "      <td>0</td>\n",
       "      <td>Adventure</td>\n",
       "    </tr>\n",
       "  </tbody>\n",
       "</table>\n",
       "<p>5 rows × 40 columns</p>\n",
       "</div>"
      ],
      "text/plain": [
       "                            title                     genre  release_year  \\\n",
       "321  Das Cabinet des Dr. Caligari  Fantasy, Horror, Mystery          1920   \n",
       "127                       The Kid     Comedy, Drama, Family          1921   \n",
       "568                     Nosferatu           Fantasy, Horror          1922   \n",
       "194                  Sherlock Jr.   Action, Comedy, Romance          1924   \n",
       "193                 The Gold Rush  Adventure, Comedy, Drama          1925   \n",
       "\n",
       "     runtime  rating  vote_count         director            cast1  \\\n",
       "321     76.0     8.1       57428     Robert Wiene    Werner Krauss   \n",
       "127     68.0     8.3      113314  Charles Chaplin  Charles Chaplin   \n",
       "568     94.0     7.9       88794      F.W. Murnau      Max Schreck   \n",
       "194     45.0     8.2       41985    Buster Keaton    Buster Keaton   \n",
       "193     95.0     8.2      101053  Charles Chaplin  Charles Chaplin   \n",
       "\n",
       "                 cast2                  cast3  ... Mystery Romance  Sci-Fi  \\\n",
       "321       Conrad Veidt        Friedrich Feher  ...       1       0       0   \n",
       "127     Edna Purviance          Jackie Coogan  ...       0       0       0   \n",
       "568  Alexander Granach  Gustav von Wangenheim  ...       0       0       0   \n",
       "194    Kathryn McGuire             Joe Keaton  ...       0       1       0   \n",
       "193         Mack Swain             Tom Murray  ...       0       0       0   \n",
       "\n",
       "    Science Fiction Sport  Thriller  TV Movie  War  Western  main_genre  \n",
       "321               0     0         0         0    0        0     Fantasy  \n",
       "127               0     0         0         0    0        0      Comedy  \n",
       "568               0     0         0         0    0        0     Fantasy  \n",
       "194               0     0         0         0    0        0      Action  \n",
       "193               0     0         0         0    0        0   Adventure  \n",
       "\n",
       "[5 rows x 40 columns]"
      ]
     },
     "execution_count": 36,
     "metadata": {},
     "output_type": "execute_result"
    }
   ],
   "source": [
    "df.head()"
   ]
  },
  {
   "cell_type": "code",
   "execution_count": 37,
   "metadata": {},
   "outputs": [],
   "source": []
  }
 ],
 "metadata": {
  "kernelspec": {
   "display_name": "dev",
   "language": "python",
   "name": "python3"
  },
  "language_info": {
   "codemirror_mode": {
    "name": "ipython",
    "version": 3
   },
   "file_extension": ".py",
   "mimetype": "text/x-python",
   "name": "python",
   "nbconvert_exporter": "python",
   "pygments_lexer": "ipython3",
   "version": "3.10.14"
  }
 },
 "nbformat": 4,
 "nbformat_minor": 2
}
